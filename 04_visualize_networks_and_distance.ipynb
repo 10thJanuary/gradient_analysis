{
 "cells": [
  {
   "cell_type": "code",
   "execution_count": 3,
   "metadata": {
    "collapsed": false
   },
   "outputs": [],
   "source": [
    "% matplotlib inline \n",
    "\n",
    "import nibabel as nib\n",
    "import nibabel.gifti\n",
    "from matplotlib.colors import ListedColormap\n",
    "import nilearn\n",
    "from nilearn import datasets, plotting\n",
    "import pandas as pd\n",
    "import numpy as np\n",
    "import seaborn as sns\n",
    "import matplotlib.pyplot as plt"
   ]
  },
  {
   "cell_type": "markdown",
   "metadata": {},
   "source": [
    "## Yeo7 networks "
   ]
  },
  {
   "cell_type": "code",
   "execution_count": null,
   "metadata": {
    "collapsed": true
   },
   "outputs": [],
   "source": [
    "yeo7L = nib.gifti.read('gradient_data/templates/hcp.RSN.L.gii').darrays[0].data\n",
    "yeo7R = nib.gifti.read('gradient_data/templates/hcp.RSN.R.gii').darrays[0].data\n",
    "yeo17L = nib.gifti.read('gradient_data/templates/hcp.RSN.L.gii').darrays[1].data\n",
    "yeo17R = nib.gifti.read('gradient_data/templates/hcp.RSN.R.gii').darrays[1].data"
   ]
  },
  {
   "cell_type": "code",
   "execution_count": null,
   "metadata": {
    "collapsed": true
   },
   "outputs": [],
   "source": [
    "yeo7 = np.concatenate((yeo7L[cortL], yeo7L[cortR]))\n",
    "uniqueY = np.array(np.unique(yeo7), dtype=np.int32)[1::]\n",
    "sz = len(uniqueY)\n",
    "rsns={}\n",
    "for c in range(sz):\n",
    "    rsns['k'+str(int(c)+1)]=[]\n",
    "\n",
    "r = []     \n",
    "for x in range(sz):\n",
    "    g = emb['embedding'][np.where(yeo7 == uniqueY[x]),0]#emb_rot[np.where(yeo7 == uniqueY[x]),0]#\n",
    "    for y in g[0]:\n",
    "        if y != 0:\n",
    "            rsns['k'+str(int(x)+1)].append(float(y))\n",
    "    r.append(np.mean(rsns['k'+str(int(x)+1)]))\n",
    "\n",
    "ord = np.argsort(r)\n",
    "\n",
    "plot_list=[]\n",
    "for c in range(sz):    \n",
    "    plot_list+=[np.squeeze(rsns['k'+str(ord[c]+1)])]\n",
    "\n",
    "names=[]\n",
    "for c in range(sz):\n",
    "    names.append(str(int(ord[c])+1))\n",
    "\n",
    "convertYeo7 = [2,5,6,0,4,1,3] \n",
    "cols7 = ((255,255,255),\n",
    "         (120,  18, 134),\n",
    "         (70 ,130, 180),\n",
    "         ( 0 ,118 , 14),\n",
    "         (196 , 58 ,250),\n",
    "         (220 ,248 ,164),\n",
    "         (230, 148,  34),\n",
    "         (205 , 62,  78 ))\n",
    "cols = cols7\n",
    "cols = np.asarray(cols, dtype=float)/255\n",
    "yeoCols = ListedColormap(cols,name='colormapYeo')\n",
    "\n",
    "colors1 = list()\n",
    "for i in xrange(0,len(ord)):\n",
    "    colors1.append(tuple(cols[convertYeo7[ord[i]] + 1]))"
   ]
  },
  {
   "cell_type": "code",
   "execution_count": null,
   "metadata": {
    "collapsed": true
   },
   "outputs": [],
   "source": [
    "height=10\n",
    "sns.set_context('notebook', font_scale=1.8)\n",
    "sns.axes_style(\"white\")\n",
    "sns.set_palette(colors1)\n",
    "\n",
    "fig = plt.figure(figsize=(20,height))\n",
    "ax = sns.boxplot(data=plot_list, saturation=0.5, orient='h', flierprops=dict(marker='+', markersize=2, \n",
    "                                                                             color=\"gray\", markeredgecolor=\"gray\"))\n",
    "ax.set_yticklabels('')\n",
    "sns.axlabel('Gradient Values','', fontsize=22)\n",
    "plt.savefig('gradient_data/figures/yeo_dist_plot.png')\n",
    "plt.close(fig)\n",
    "\n",
    "fig, axarr = plt.subplots(nrows=sz, ncols=1, figsize=(2*(20/sz),height))\n",
    "data = datasets.fetch_atlas_yeo_2011(data_dir='./')\n",
    "yeoV7 = nibabel.load(data.thick_7)\n",
    "y = 0\n",
    "for x in range(sz):\n",
    "    yeoV7_1 = nibabel.Nifti1Image((yeoV7.get_data() == convertYeo7[ord[x]] + 1).astype(int), yeoV7.get_affine())     \n",
    "    yeoCols = ListedColormap(cols[[0,convertYeo7[ord[x]] + 1]],name='colormapYeo')\n",
    "    plotting.plot_glass_brain(yeoV7_1, axes=axarr[x], annotate=False, alpha=0.3, cmap=yeoCols, threshold=0.1, \n",
    "                          output_file='gradient_data/figures/yeo_brains.png')\n",
    "    y += 1\n",
    "\n",
    "from PIL import Image\n",
    "i1 = Image.open('gradient_data/figures/yeo_dist_plot.png')\n",
    "i2 = Image.open('gradient_data/figures/yeo_brains.png')\n",
    "result = Image.new(\"RGBA\", (np.shape(i1)[1]+50, np.shape(i1)[0]))\n",
    "result.paste(i1, (120, 0))\n",
    "result.paste(i2, (0, 0))\n",
    "result.save('gradient_data/figures/Yeo7_Fig.png')"
   ]
  },
  {
   "cell_type": "code",
   "execution_count": null,
   "metadata": {
    "collapsed": true
   },
   "outputs": [],
   "source": [
    "from IPython.display import Image as im\n",
    "im(filename='gradient_data/figures/Yeo7_Fig.png') "
   ]
  },
  {
   "cell_type": "code",
   "execution_count": null,
   "metadata": {
    "collapsed": true
   },
   "outputs": [],
   "source": [
    "y = yeo7L.copy()\n",
    "for n, v in enumerate(uniqueY):\n",
    "    y[yeo7L == v] = int(convertYeo7[n]) - 3\n",
    "y[yeo7L == 37] = - 4\n",
    "c = np.where([yeo17L != 37])[1]\n",
    "f = plot_surf_stat_map(surfL[0], surfL[1], bg_map=sulcL, mask=c, bg_on_stat=True, stat_map=y, azim=0, alpha=1, cmap=yeoCols, label=True)\n",
    "plt.show()\n",
    "f.savefig('gradient_data/figures/yeo7.lat.png')\n",
    "f = plot_surf_stat_map(surfL[0], surfL[1], bg_map=sulcL, mask=c, bg_on_stat=True, stat_map=y, azim=180, alpha=1, cmap=yeoCols, label=True)\n",
    "plt.show()\n",
    "f.savefig('gradient_data/figures/yeo7.med.png')"
   ]
  },
  {
   "cell_type": "code",
   "execution_count": null,
   "metadata": {
    "collapsed": true
   },
   "outputs": [],
   "source": [
    "# plot order on surface\n",
    "y = yeo7L.copy()\n",
    "ord1 = np.argsort(ord)\n",
    "for n, v in enumerate(uniqueY):\n",
    "    y[yeo7L == v] = int(ord1[n]) + 1 - 3\n",
    "y[yeo7L == 37] = - 4\n",
    "c = np.where([yeo17L != 37])[1]\n",
    "f = plot_surf_stat_map(surfL[0], surfL[1], bg_map=sulcL, stat_map=y, mask=c, bg_on_stat=True, azim=0, alpha=1, label=True)\n",
    "plt.show()\n",
    "f.savefig('gradient_data/figures/yeo7.reord.lat.png')\n",
    "f = plot_surf_stat_map(surfL[0], surfL[1], bg_map=sulcL, stat_map=y, mask=c, bg_on_stat=True, azim=180, alpha=1, label=True)\n",
    "plt.show()\n",
    "f.savefig('gradient_data/figures/yeo7.reord.med.png')"
   ]
  },
  {
   "cell_type": "markdown",
   "metadata": {},
   "source": [
    "## Yeo17 networks"
   ]
  },
  {
   "cell_type": "code",
   "execution_count": null,
   "metadata": {
    "collapsed": true
   },
   "outputs": [],
   "source": []
  },
  {
   "cell_type": "markdown",
   "metadata": {},
   "source": [
    "# Geodesic distance from gradient peaks"
   ]
  },
  {
   "cell_type": "code",
   "execution_count": null,
   "metadata": {
    "collapsed": true
   },
   "outputs": [],
   "source": []
  },
  {
   "cell_type": "code",
   "execution_count": null,
   "metadata": {
    "collapsed": true
   },
   "outputs": [],
   "source": []
  }
 ],
 "metadata": {
  "kernelspec": {
   "display_name": "Python 2",
   "language": "python",
   "name": "python2"
  },
  "language_info": {
   "codemirror_mode": {
    "name": "ipython",
    "version": 2
   },
   "file_extension": ".py",
   "mimetype": "text/x-python",
   "name": "python",
   "nbconvert_exporter": "python",
   "pygments_lexer": "ipython2",
   "version": "2.7.11"
  }
 },
 "nbformat": 4,
 "nbformat_minor": 0
}

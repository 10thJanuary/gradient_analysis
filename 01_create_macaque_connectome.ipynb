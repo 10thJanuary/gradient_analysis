{
 "cells": [
  {
   "cell_type": "code",
   "execution_count": 13,
   "metadata": {
    "collapsed": false
   },
   "outputs": [],
   "source": [
    "% matplotlib inline\n",
    "\n",
    "import pandas as pd\n",
    "import numpy as np\n",
    "import scipy as sp\n",
    "from scipy import io\n",
    "\n",
    "import sys\n",
    "sys.path.append('gradient_data/src/')\n",
    "from viz import *"
   ]
  },
  {
   "cell_type": "code",
   "execution_count": 61,
   "metadata": {
    "collapsed": true
   },
   "outputs": [],
   "source": [
    "atlases = {'rm': 0, 'lv': 1, 'fv': 3, 'b05': 4, 'bb47': 5, 'pht00': 7}\n",
    "\n",
    "def create_macaque_conn_mat(mat_name):\n",
    "\n",
    "    col = atlases.get(mat_name)\n",
    "    mat = pd.read_csv(('gradient_data/macaque/%s_mat.txt' % mat_name), delimiter='\\t', header=-1)\n",
    "    nam = pd.read_csv(('gradient_data/macaque/%s_name.txt' % mat_name), delimiter='\\n', header=-1)[0]\n",
    "    m = np.array(mat)[:,:-1]\n",
    "    \n",
    "    toRemove = np.where(m.sum(axis=0) != 0)[0]\n",
    "    m = m[toRemove,:][:,toRemove].copy()\n",
    "    nam = nam[toRemove].copy()\n",
    "    \n",
    "    return m, nam\n",
    "\n",
    "def save_macaque_matrices(mat_name):\n",
    "    \n",
    "    conn_mat, names = create_macaque_conn_mat(mat_name)\n",
    "    \n",
    "    np.save('gradient_data/conn_matrices/macaque_%s_conn.npy' % mat_name, conn_mat)\n",
    "    np.save('gradient_data/conn_matrices/macaque_%s_names.npy' % mat_name, names)"
   ]
  },
  {
   "cell_type": "code",
   "execution_count": 63,
   "metadata": {
    "collapsed": false
   },
   "outputs": [],
   "source": [
    "save_macaque_matrices('rm')\n",
    "save_macaque_matrices('fv')\n",
    "save_macaque_matrices('b05')\n",
    "save_macaque_matrices('bb47')"
   ]
  },
  {
   "cell_type": "code",
   "execution_count": null,
   "metadata": {
    "collapsed": true
   },
   "outputs": [],
   "source": []
  }
 ],
 "metadata": {
  "kernelspec": {
   "display_name": "Python 2",
   "language": "python",
   "name": "python2"
  },
  "language_info": {
   "codemirror_mode": {
    "name": "ipython",
    "version": 2
   },
   "file_extension": ".py",
   "mimetype": "text/x-python",
   "name": "python",
   "nbconvert_exporter": "python",
   "pygments_lexer": "ipython2",
   "version": "2.7.11"
  }
 },
 "nbformat": 4,
 "nbformat_minor": 0
}

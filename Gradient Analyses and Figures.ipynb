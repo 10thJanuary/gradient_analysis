{
 "cells": [
  {
   "cell_type": "markdown",
   "metadata": {},
   "source": [
    "# Diffusion embedding of functional connectivity matrix"
   ]
  },
  {
   "cell_type": "code",
   "execution_count": null,
   "metadata": {
    "collapsed": false
   },
   "outputs": [],
   "source": [
    "import h5py, sys, io, numpy as np\n",
    "#from mapalign import embed, dist\n",
    "\n",
    "#embedding, result = embed.compute_diffusion_map(L, alpha=0.5, n_components=5, diffusion_time=0, skip_checks=False, overwrite=True)\n"
   ]
  },
  {
   "cell_type": "code",
   "execution_count": null,
   "metadata": {
    "collapsed": true
   },
   "outputs": [],
   "source": [
    "import scipy.io\n",
    "emb = scipy.io.loadmat('../data/hcp.embed.all.313.mat')"
   ]
  },
  {
   "cell_type": "markdown",
   "metadata": {},
   "source": [
    "## Visualization on the cortical surface"
   ]
  },
  {
   "cell_type": "code",
   "execution_count": null,
   "metadata": {
    "collapsed": false
   },
   "outputs": [],
   "source": [
    "import nibabel as nib \n",
    "\n",
    "surfmL = nib.freesurfer.read_geometry('gradient_data/templates/Q1-Q6_R440.L.midthickness.32k_fs_LR.surf')\n",
    "surfiL = nib.freesurfer.read_geometry('gradient_data/templates/Q1-Q6_R440.L.very_inflated.32k_fs_LR.surf')\n",
    "surfL = []\n",
    "surfL.append(np.array(surfmL[0]*0.3 + surfiL[0]*0.7))\n",
    "surfL.append(surfmL[1])\n",
    "\n",
    "surfmR = nib.freesurfer.read_geometry('gradient_data/templates/Q1-Q6_R440.R.midthickness.32k_fs_LR.surf')\n",
    "surfiR = nib.freesurfer.read_geometry('gradient_data/templates/Q1-Q6_R440.R.very_inflated.32k_fs_LR.surf')\n",
    "surfR = []\n",
    "surfR.append(np.array(surfmR[0]*0.3 + surfiR[0]*0.7))\n",
    "surfR.append(surfmR[1])\n",
    "\n",
    "sulcL = -1 * nib.load('gradient_data/templates/Q1-Q6_R440.sulc.32k_fs_LR.dscalar.nii').data[0:32492]\n",
    "sulcR = -1 * nib.load('gradient_data/templates/Q1-Q6_R440.sulc.32k_fs_LR.dscalar.nii').data[32492:32492*2]\n",
    "\n",
    "res = nib.load('gradient_data/templates/hcp.embed.all.179.lh.dscalar.nii').data\n",
    "cortL = np.squeeze(np.array(np.where(res != 0)[0], dtype=np.int32))\n",
    "res = nib.load('gradient_data/templates/hcp.embed.all.179.rh.dscalar.nii').data\n",
    "cortR = np.squeeze(np.array(np.where(res != 0)[0], dtype=np.int32))\n",
    "del res"
   ]
  },
  {
   "cell_type": "code",
   "execution_count": null,
   "metadata": {
    "collapsed": false
   },
   "outputs": [],
   "source": [
    "% matplotlib inline\n",
    "import sys\n",
    "sys.path.append('gradient_data/src/')\n",
    "from viz import *"
   ]
  },
  {
   "cell_type": "code",
   "execution_count": null,
   "metadata": {
    "collapsed": true
   },
   "outputs": [],
   "source": [
    "# Scatterplot of first two dimensions"
   ]
  },
  {
   "cell_type": "markdown",
   "metadata": {},
   "source": [
    "# Macaque monkey connectivity data gradients"
   ]
  },
  {
   "cell_type": "code",
   "execution_count": null,
   "metadata": {
    "collapsed": true
   },
   "outputs": [],
   "source": []
  },
  {
   "cell_type": "code",
   "execution_count": null,
   "metadata": {
    "collapsed": true
   },
   "outputs": [],
   "source": []
  },
  {
   "cell_type": "code",
   "execution_count": null,
   "metadata": {
    "collapsed": true
   },
   "outputs": [],
   "source": []
  },
  {
   "cell_type": "markdown",
   "metadata": {},
   "source": [
    "# Geodesic distance from gradient peaks"
   ]
  },
  {
   "cell_type": "code",
   "execution_count": null,
   "metadata": {
    "collapsed": true
   },
   "outputs": [],
   "source": []
  },
  {
   "cell_type": "code",
   "execution_count": null,
   "metadata": {
    "collapsed": true
   },
   "outputs": [],
   "source": []
  },
  {
   "cell_type": "code",
   "execution_count": null,
   "metadata": {
    "collapsed": true
   },
   "outputs": [],
   "source": [
    "# scatterplot"
   ]
  },
  {
   "cell_type": "code",
   "execution_count": null,
   "metadata": {
    "collapsed": true
   },
   "outputs": [],
   "source": []
  },
  {
   "cell_type": "markdown",
   "metadata": {},
   "source": [
    "# Plotting on network templates"
   ]
  },
  {
   "cell_type": "code",
   "execution_count": null,
   "metadata": {
    "collapsed": false
   },
   "outputs": [],
   "source": [
    "import nibabel as nib\n",
    "import nibabel.gifti\n",
    "from matplotlib.colors import ListedColormap\n",
    "import nilearn\n",
    "from nilearn import datasets, plotting\n",
    "import pandas as pd\n",
    "import numpy as np\n",
    "import seaborn as sns\n",
    "import matplotlib.pyplot as plt"
   ]
  },
  {
   "cell_type": "markdown",
   "metadata": {},
   "source": [
    "## Yeo7 networks "
   ]
  },
  {
   "cell_type": "code",
   "execution_count": null,
   "metadata": {
    "collapsed": false
   },
   "outputs": [],
   "source": [
    "yeo7L = nib.gifti.read('gradient_data/templates/hcp.RSN.L.gii').darrays[0].data\n",
    "yeo7R = nib.gifti.read('gradient_data/templates/hcp.RSN.R.gii').darrays[0].data\n",
    "yeo17L = nib.gifti.read('gradient_data/templates/hcp.RSN.L.gii').darrays[1].data\n",
    "yeo17R = nib.gifti.read('gradient_data/templates/hcp.RSN.R.gii').darrays[1].data"
   ]
  },
  {
   "cell_type": "code",
   "execution_count": null,
   "metadata": {
    "collapsed": false
   },
   "outputs": [],
   "source": [
    "yeo7 = np.concatenate((yeo7L[cortL], yeo7L[cortR]))\n",
    "uniqueY = np.array(np.unique(yeo7), dtype=np.int32)[1::]\n",
    "sz = len(uniqueY)\n",
    "rsns={}\n",
    "for c in range(sz):\n",
    "    rsns['k'+str(int(c)+1)]=[]\n",
    "\n",
    "r = []     \n",
    "for x in range(sz):\n",
    "    g = emb['embedding'][np.where(yeo7 == uniqueY[x]),0]#emb_rot[np.where(yeo7 == uniqueY[x]),0]#\n",
    "    for y in g[0]:\n",
    "        if y != 0:\n",
    "            rsns['k'+str(int(x)+1)].append(float(y))\n",
    "    r.append(np.mean(rsns['k'+str(int(x)+1)]))\n",
    "\n",
    "ord = np.argsort(r)\n",
    "\n",
    "plot_list=[]\n",
    "for c in range(sz):    \n",
    "    plot_list+=[np.squeeze(rsns['k'+str(ord[c]+1)])]\n",
    "\n",
    "names=[]\n",
    "for c in range(sz):\n",
    "    names.append(str(int(ord[c])+1))\n",
    "\n",
    "convertYeo7 = [2,5,6,0,4,1,3] \n",
    "cols7 = ((255,255,255),\n",
    "         (120,  18, 134),\n",
    "         (70 ,130, 180),\n",
    "         ( 0 ,118 , 14),\n",
    "         (196 , 58 ,250),\n",
    "         (220 ,248 ,164),\n",
    "         (230, 148,  34),\n",
    "         (205 , 62,  78 ))\n",
    "cols = cols7\n",
    "cols = np.asarray(cols, dtype=float)/255\n",
    "yeoCols = ListedColormap(cols,name='colormapYeo')\n",
    "\n",
    "colors1 = list()\n",
    "for i in xrange(0,len(ord)):\n",
    "    colors1.append(tuple(cols[convertYeo7[ord[i]] + 1]))"
   ]
  },
  {
   "cell_type": "code",
   "execution_count": null,
   "metadata": {
    "collapsed": false
   },
   "outputs": [],
   "source": [
    "height=10\n",
    "sns.set_context('notebook', font_scale=1.8)\n",
    "sns.axes_style(\"white\")\n",
    "sns.set_palette(colors1)\n",
    "\n",
    "fig = plt.figure(figsize=(20,height))\n",
    "ax = sns.boxplot(data=plot_list, saturation=0.5, orient='h', flierprops=dict(marker='+', markersize=2, \n",
    "                                                                             color=\"gray\", markeredgecolor=\"gray\"))\n",
    "ax.set_yticklabels('')\n",
    "sns.axlabel('Gradient Values','', fontsize=22)\n",
    "plt.savefig('gradient_data/figures/yeo_dist_plot.png')\n",
    "plt.close(fig)\n",
    "\n",
    "fig, axarr = plt.subplots(nrows=sz, ncols=1, figsize=(2*(20/sz),height))\n",
    "data = datasets.fetch_atlas_yeo_2011(data_dir='./')\n",
    "yeoV7 = nibabel.load(data.thick_7)\n",
    "y = 0\n",
    "for x in range(sz):\n",
    "    yeoV7_1 = nibabel.Nifti1Image((yeoV7.get_data() == convertYeo7[ord[x]] + 1).astype(int), yeoV7.get_affine())     \n",
    "    yeoCols = ListedColormap(cols[[0,convertYeo7[ord[x]] + 1]],name='colormapYeo')\n",
    "    plotting.plot_glass_brain(yeoV7_1, axes=axarr[x], annotate=False, alpha=0.3, cmap=yeoCols, threshold=0.1, \n",
    "                          output_file='gradient_data/figures/yeo_brains.png')\n",
    "    y += 1\n",
    "\n",
    "from PIL import Image\n",
    "i1 = Image.open('gradient_data/figures/yeo_dist_plot.png')\n",
    "i2 = Image.open('gradient_data/figures/yeo_brains.png')\n",
    "result = Image.new(\"RGBA\", (np.shape(i1)[1]+50, np.shape(i1)[0]))\n",
    "result.paste(i1, (120, 0))\n",
    "result.paste(i2, (0, 0))\n",
    "result.save('gradient_data/figures/Yeo7_Fig.png')"
   ]
  },
  {
   "cell_type": "code",
   "execution_count": null,
   "metadata": {
    "collapsed": false
   },
   "outputs": [],
   "source": [
    "from IPython.display import Image as im\n",
    "im(filename='gradient_data/figures/Yeo7_Fig.png') "
   ]
  },
  {
   "cell_type": "code",
   "execution_count": null,
   "metadata": {
    "collapsed": false
   },
   "outputs": [],
   "source": [
    "y = yeo7L.copy()\n",
    "for n, v in enumerate(uniqueY):\n",
    "    y[yeo7L == v] = int(convertYeo7[n]) - 3\n",
    "y[yeo7L == 37] = - 4\n",
    "c = np.where([yeo17L != 37])[1]\n",
    "f = plot_surf_stat_map(surfL[0], surfL[1], bg_map=sulcL, mask=c, bg_on_stat=True, stat_map=y, azim=0, alpha=1, cmap=yeoCols, label=True)\n",
    "plt.show()\n",
    "f.savefig('gradient_data/figures/yeo7.lat.png')\n",
    "f = plot_surf_stat_map(surfL[0], surfL[1], bg_map=sulcL, mask=c, bg_on_stat=True, stat_map=y, azim=180, alpha=1, cmap=yeoCols, label=True)\n",
    "plt.show()\n",
    "f.savefig('gradient_data/figures/yeo7.med.png')"
   ]
  },
  {
   "cell_type": "code",
   "execution_count": null,
   "metadata": {
    "collapsed": false
   },
   "outputs": [],
   "source": [
    "# plot order on surface\n",
    "y = yeo7L.copy()\n",
    "ord1 = np.argsort(ord)\n",
    "for n, v in enumerate(uniqueY):\n",
    "    y[yeo7L == v] = int(ord1[n]) + 1 - 3\n",
    "y[yeo7L == 37] = - 4\n",
    "c = np.where([yeo17L != 37])[1]\n",
    "f = plot_surf_stat_map(surfL[0], surfL[1], bg_map=sulcL, stat_map=y, mask=c, bg_on_stat=True, azim=0, alpha=1, label=True)\n",
    "plt.show()\n",
    "f.savefig('gradient_data/figures/yeo7.reord.lat.png')\n",
    "f = plot_surf_stat_map(surfL[0], surfL[1], bg_map=sulcL, stat_map=y, mask=c, bg_on_stat=True, azim=180, alpha=1, label=True)\n",
    "plt.show()\n",
    "f.savefig('gradient_data/figures/yeo7.reord.med.png')"
   ]
  },
  {
   "cell_type": "markdown",
   "metadata": {},
   "source": [
    "## Yeo17 networks"
   ]
  },
  {
   "cell_type": "code",
   "execution_count": null,
   "metadata": {
    "collapsed": true
   },
   "outputs": [],
   "source": []
  },
  {
   "cell_type": "markdown",
   "metadata": {},
   "source": [
    "# Mapping to NeuroSynth"
   ]
  },
  {
   "cell_type": "code",
   "execution_count": null,
   "metadata": {
    "collapsed": false
   },
   "outputs": [],
   "source": [
    "from neurosynth.base.dataset import Dataset\n",
    "from neurosynth.analysis import decode\n",
    "import pandas as pd\n",
    "import numpy as np\n",
    "import seaborn as sns\n",
    "import matplotlib.pyplot as plt\n"
   ]
  },
  {
   "cell_type": "code",
   "execution_count": null,
   "metadata": {
    "collapsed": false
   },
   "outputs": [],
   "source": [
    "# Import neurosynth database:\n",
    "pickled_dataset = 'gradient_data/neurosynth/dataset.pkl'\n",
    "dataset = Dataset.load(pickled_dataset)\n",
    "\n",
    "# Import topics:\n",
    "features = pd.read_csv('gradient_data/neurosynth/v3-topics-50.txt', sep='\\t', index_col=0)\n",
    "topics_to_keep = [4, 6, 14, 18, #17, \n",
    "                  23, 25, 20, #21,#27,\n",
    "                  29, 30, 31, 33, 35, \n",
    "                  36,  38,  45, 37,\n",
    "                  48, 49]\n",
    "labels = ['semantics', 'cued attention', 'working memory',  'autobiographical memory', #'reading',\n",
    "          'inhibition', 'motor', 'visual perception', #'number',#'reward',\n",
    "          'visual attention', 'multisensory perception', 'visuospatial','eye movements', 'action',\n",
    "          'auditory perception',  'pain',  'emotion',  'language', \n",
    "          'control', 'social cognition']            \n",
    "features = features.iloc[:, topics_to_keep]\n",
    "features.columns = labels\n",
    "dataset.add_features(features, append=False)"
   ]
  },
  {
   "cell_type": "code",
   "execution_count": null,
   "metadata": {
    "collapsed": true
   },
   "outputs": [],
   "source": [
    "# include code to convert surface to volume..."
   ]
  },
  {
   "cell_type": "code",
   "execution_count": null,
   "metadata": {
    "collapsed": false
   },
   "outputs": [],
   "source": [
    "% matplotlib inline\n",
    "\n",
    "decoder = decode.Decoder(dataset, method='roi')\n",
    "\n",
    "tot = 5\n",
    "data = decoder.decode([str('gradient_data/masks/volume_%02d_%02d.nii.gz' % (i * tot, (i * tot) + tot)) for i in xrange(0,100/tot)])\n",
    "\n",
    "df = []\n",
    "df = data.copy()\n",
    "newnames = []\n",
    "[newnames.append(('%s-%s' % (str(i * tot), str((i*tot) + tot)))) for i in xrange(0,len(df.columns))]\n",
    "df.columns = newnames\n",
    "\n",
    "# Set threshold:\n",
    "thr = 3.1\n",
    "vmin = 0\n",
    "vmax = 15\n",
    "\n",
    "def getOrder(d, thr):\n",
    "    dh = []\n",
    "    for i in range(0,len(d)):\n",
    "        di = d[i]\n",
    "        dh.append(np.average(np.array(xrange(0,len(d[i]))) + 1, weights=di))\n",
    "    heatmapOrder = np.argsort(dh)\n",
    "    return heatmapOrder\n",
    "\n",
    "df[df<thr] = 0 \n",
    "heatmapOrder = getOrder(np.array(df), thr)\n",
    "\n",
    "sns.set(context=\"paper\", font=\"sans-serif\", font_scale=2)\n",
    "f, (ax1) = plt.subplots(nrows=1,ncols=1,figsize=(30, 10), sharey=True)\n",
    "plotData = df.reindex(df.index[heatmapOrder])\n",
    "cbar_kws = { 'ticks' : [ thr, vmax ] }\n",
    "\n",
    "cax = sns.heatmap(plotData, linewidths=1, square=True, cmap='Greys', robust=False, \n",
    "            ax=ax1, vmin=thr, vmax=vmax, mask=plotData == 0) # center = 0, cbar_kws=cbar_kws\n",
    "sns.axlabel('Percentile along gradient', 'NeuroSynth topics terms')"
   ]
  },
  {
   "cell_type": "markdown",
   "metadata": {},
   "source": [
    "# Supplementary Materials"
   ]
  },
  {
   "cell_type": "code",
   "execution_count": null,
   "metadata": {
    "collapsed": true
   },
   "outputs": [],
   "source": []
  }
 ],
 "metadata": {
  "kernelspec": {
   "display_name": "Python 2",
   "language": "python",
   "name": "python2"
  },
  "language_info": {
   "codemirror_mode": {
    "name": "ipython",
    "version": 2
   },
   "file_extension": ".py",
   "mimetype": "text/x-python",
   "name": "python",
   "nbconvert_exporter": "python",
   "pygments_lexer": "ipython2",
   "version": "2.7.11"
  }
 },
 "nbformat": 4,
 "nbformat_minor": 0
}
